{
  "nbformat": 4,
  "nbformat_minor": 0,
  "metadata": {
    "colab": {
      "provenance": []
    },
    "kernelspec": {
      "name": "python3",
      "display_name": "Python 3"
    },
    "language_info": {
      "name": "python"
    }
  },
  "cells": [
    {
      "cell_type": "code",
      "execution_count": null,
      "metadata": {
        "colab": {
          "base_uri": "https://localhost:8080/"
        },
        "id": "S0hwJWvz2Nfk",
        "outputId": "4b34205f-3d76-4f56-eb63-d3ebababffb0"
      },
      "outputs": [
        {
          "output_type": "execute_result",
          "data": {
            "text/plain": [
              "(1, 10)"
            ]
          },
          "metadata": {},
          "execution_count": 1
        }
      ],
      "source": [
        "# Write a Python function to find the maximum and minimum numbers from a sequence of numbers.\n",
        "def min_max(numbers):\n",
        "  min_num = float('inf')\n",
        "  max_num = float('-inf')\n",
        "  for i in numbers:\n",
        "    if i < min_num:\n",
        "      min_num = i\n",
        "    elif i > max_num:\n",
        "      max_num = i\n",
        "  return min_num, max_num\n",
        "\n",
        "min_max([1,2,3,4,5,6,7,8,9,10])"
      ]
    },
    {
      "cell_type": "code",
      "source": [
        "# Write a Python program to create an array of 5 integers and display the array items.\n",
        "# Access individual element through indexes.\n",
        "\n",
        "import array as arr\n",
        "\n",
        "numbers = arr.array('i',[1,2,3,4,5])\n",
        "\n",
        "for i in numbers:\n",
        "  print(i, end = \" \")"
      ],
      "metadata": {
        "colab": {
          "base_uri": "https://localhost:8080/"
        },
        "id": "R7praD4v2pN0",
        "outputId": "87b4b4fc-df38-4d37-a278-d833ac31ac6a"
      },
      "execution_count": null,
      "outputs": [
        {
          "output_type": "stream",
          "name": "stdout",
          "text": [
            "1 2 3 4 5 "
          ]
        }
      ]
    },
    {
      "cell_type": "code",
      "source": [
        "# Write a Python program to reverse the order of the items in the array.\n",
        "\n",
        "import array as arr\n",
        "\n",
        "numbers = arr.array('i',[1,2,3,4,5])\n",
        "\n",
        "for i in range(-1, -len(numbers)-1,-1):\n",
        "  print(numbers[i], end = \" \")\n",
        "print()\n",
        "\n",
        "print(\"OR ANOTHER APPROACH WILL BE\")\n",
        "for i in reversed(numbers):\n",
        "  print(i, end = \" \")"
      ],
      "metadata": {
        "colab": {
          "base_uri": "https://localhost:8080/"
        },
        "id": "kK6yjU0o3CXu",
        "outputId": "8ef5bede-5d9e-4cbd-d23d-454279c354ab"
      },
      "execution_count": null,
      "outputs": [
        {
          "output_type": "stream",
          "name": "stdout",
          "text": [
            "5 4 3 2 1 \n",
            "OR ANOTHER APPROACH WILL BE\n",
            "5 4 3 2 1 "
          ]
        }
      ]
    },
    {
      "cell_type": "code",
      "source": [
        "# Write a Python program to get the number of occurrences of a specified element in an array.\n",
        "\n",
        "def occurrences(numbers, target, count = 0):\n",
        "  for i in numbers:\n",
        "    if i == target:\n",
        "      count += 1\n",
        "  return count\n",
        "\n",
        "occurrences([1,2,3,4,5,6,7,8,9,10], 1)"
      ],
      "metadata": {
        "colab": {
          "base_uri": "https://localhost:8080/"
        },
        "id": "hgujn9263M7n",
        "outputId": "d18aa2c9-c544-4a97-f994-21d7c75e152f"
      },
      "execution_count": null,
      "outputs": [
        {
          "output_type": "execute_result",
          "data": {
            "text/plain": [
              "1"
            ]
          },
          "metadata": {},
          "execution_count": 15
        }
      ]
    },
    {
      "cell_type": "code",
      "source": [
        "# Write a Python program to remove the first occurrence of a specified element from an array.\n",
        "\n",
        "def remove_elemnt(numbers, target):\n",
        "  for i in numbers:\n",
        "    if i == target:\n",
        "      numbers.remove(i)\n",
        "      break\n",
        "  return numbers\n",
        "\n",
        "remove_elemnt([1,2,3,4,5,6,7,8,9,10], 1)"
      ],
      "metadata": {
        "colab": {
          "base_uri": "https://localhost:8080/"
        },
        "id": "6oVIPVsC5Ei_",
        "outputId": "29037734-3959-4db3-d50e-a68efc1c5eb8"
      },
      "execution_count": null,
      "outputs": [
        {
          "output_type": "execute_result",
          "data": {
            "text/plain": [
              "[2, 3, 4, 5, 6, 7, 8, 9, 10]"
            ]
          },
          "metadata": {},
          "execution_count": 16
        }
      ]
    },
    {
      "cell_type": "markdown",
      "source": [
        "### **Dictionary Set**"
      ],
      "metadata": {
        "id": "9FdDK9nj6OoP"
      }
    },
    {
      "cell_type": "code",
      "source": [
        "# Write a Python script to sort (ascending and descending) a dictionary by value.\n",
        "def sort_dict(mydict):\n",
        "  print(\"Ascending Order\")\n",
        "  for key, value in sorted(mydict.items(), key = lambda x: x[1]):\n",
        "    print(key, \"--->\", value)\n",
        "\n",
        "  print(\"Descending Order\")\n",
        "  for key, value in sorted(mydict.items(), key = lambda x: x[1], reverse = True):\n",
        "    print(key, \"--->\", value)\n",
        "\n",
        "sort_dict({'a': 1, 'b': 2, 'c': 3, 'd': 4, 'e': 5})\n"
      ],
      "metadata": {
        "colab": {
          "base_uri": "https://localhost:8080/"
        },
        "id": "KKlJoTW_52-F",
        "outputId": "b5baac1a-3a02-443e-9598-5ba2fecefbbb"
      },
      "execution_count": null,
      "outputs": [
        {
          "output_type": "stream",
          "name": "stdout",
          "text": [
            "Ascending Order\n",
            "a ---> 1\n",
            "b ---> 2\n",
            "c ---> 3\n",
            "d ---> 4\n",
            "e ---> 5\n",
            "Descending Order\n",
            "e ---> 5\n",
            "d ---> 4\n",
            "c ---> 3\n",
            "b ---> 2\n",
            "a ---> 1\n"
          ]
        }
      ]
    },
    {
      "cell_type": "code",
      "source": [
        "# Write a Python script to add a key to a dictionary.\n",
        "# Sample Dictionary : {0: 10, 1: 20}\n",
        "# Expected Result : {0: 10, 1: 20, 2: 30}\n",
        "\n",
        "mydict = {0: 10, 1: 20}\n",
        "mydict[2] = 30\n",
        "mydict"
      ],
      "metadata": {
        "colab": {
          "base_uri": "https://localhost:8080/"
        },
        "id": "Wbv98cfv78Qe",
        "outputId": "1621a9b6-6474-4421-acb0-6550d506f565"
      },
      "execution_count": null,
      "outputs": [
        {
          "output_type": "execute_result",
          "data": {
            "text/plain": [
              "{0: 10, 1: 20, 2: 30}"
            ]
          },
          "metadata": {},
          "execution_count": 21
        }
      ]
    },
    {
      "cell_type": "code",
      "source": [
        "# Write a Python script to concatenate following dictionaries to create a new one.\n",
        "# Sample Dictionary :\n",
        "# dic1={1:10, 2:20}\n",
        "# dic2={3:30, 4:40}\n",
        "# dic3={5:50,6:60}\n",
        "# Expected Result : {1: 10, 2: 20, 3: 30, 4: 40, 5: 50, 6: 60}\n",
        "\n",
        "dict1={1:10, 2:20}\n",
        "dict2={3:30, 4:40}\n",
        "dict3={5:50,6:60}\n",
        "\n",
        "dict1.update(dict2)\n",
        "dict1.update(dict3)\n",
        "dict1\n"
      ],
      "metadata": {
        "colab": {
          "base_uri": "https://localhost:8080/"
        },
        "id": "2Y4f_oZ08Vpg",
        "outputId": "12021b74-f45e-4b0f-8862-f74f5df71899"
      },
      "execution_count": null,
      "outputs": [
        {
          "output_type": "execute_result",
          "data": {
            "text/plain": [
              "{1: 10, 2: 20, 3: 30, 4: 40, 5: 50, 6: 60}"
            ]
          },
          "metadata": {},
          "execution_count": 23
        }
      ]
    },
    {
      "cell_type": "code",
      "source": [
        "# Write a Python program to iterate over dictionaries using for loops\n",
        "\n",
        "mydict = {0: 10, 1: 20, 2: 30}\n",
        "for key, value in mydict.items():\n",
        "  print(key, \"--->\", value)"
      ],
      "metadata": {
        "colab": {
          "base_uri": "https://localhost:8080/"
        },
        "id": "sZ1L4SGP8joH",
        "outputId": "c8b6edcf-e1ec-4528-ab46-04727c9785ef"
      },
      "execution_count": null,
      "outputs": [
        {
          "output_type": "stream",
          "name": "stdout",
          "text": [
            "0 ---> 10\n",
            "1 ---> 20\n",
            "2 ---> 30\n"
          ]
        }
      ]
    },
    {
      "cell_type": "code",
      "source": [
        "# Write a Python script to generate and print a dictionary that contains a number (between 1 and n) in the form (x, x*x).\n",
        "# Sample Dictionary (n = 5) :\n",
        "# Expected Output : {1: 1, 2: 4, 3: 9, 4: 16, 5: 25}\n",
        "\n",
        "mydict, n =  dict(), int(input(\"Enter the range: \"))\n",
        "for i in range(1,n+1):\n",
        "  mydict[i] = i*i\n",
        "print(mydict)"
      ],
      "metadata": {
        "colab": {
          "base_uri": "https://localhost:8080/"
        },
        "id": "bRtlne5E84_H",
        "outputId": "de998768-11b6-4f8e-94c9-0ba6a48d9528"
      },
      "execution_count": null,
      "outputs": [
        {
          "output_type": "stream",
          "name": "stdout",
          "text": [
            "Enter the range: 5\n",
            "{1: 1, 2: 4, 3: 9, 4: 16, 5: 25}\n"
          ]
        }
      ]
    },
    {
      "cell_type": "code",
      "source": [
        "# Write a Python program to remove a key from a dictionary.\n",
        "mydict = {1: 1, 2: 4, 3: 9, 4: 16, 5: 25}\n",
        "x = int(input(\"Enter the key to be deleted: \"))\n",
        "if x in mydict:\n",
        "  mydict.pop(x)\n",
        "  print(mydict)\n",
        "  print(\"Item removed\")\n",
        "else:\n",
        "  print(\"Item Not present\")"
      ],
      "metadata": {
        "colab": {
          "base_uri": "https://localhost:8080/"
        },
        "id": "HFp6f1O19SKw",
        "outputId": "b93570be-a9d8-4461-d0f3-863fa7b061bb"
      },
      "execution_count": null,
      "outputs": [
        {
          "output_type": "stream",
          "name": "stdout",
          "text": [
            "Enter the key to be deleted: 6\n",
            "Not present\n"
          ]
        }
      ]
    },
    {
      "cell_type": "code",
      "source": [
        "from re import U\n",
        "# Write a Python program to print all unique values in a dictionary.\n",
        "# Sample Data : [{\"V\":\"S001\"}, {\"V\": \"S002\"}, {\"VI\": \"S001\"}, {\"VI\": \"S005\"},\n",
        "# {\"VII\":\"S005\"}, {\"V\":\"S009\"},{\"VIII\":\"S007\"}]\n",
        "# Expected Output : Unique Values: {'S005', 'S002', 'S007', 'S001', 'S009'}\n",
        "\n",
        "mydict = {\"V\":\"S001\"}, {\"V\": \"S002\"}, {\"VI\": \"S001\"}, {\"VI\": \"S005\"}, {\"VII\":\"S005\"}, {\"V\":\"S009\"},{\"VIII\":\"S007\"}\n",
        "unique_values = set()\n",
        "for i in mydict:\n",
        "  for j in i.values():\n",
        "    unique_values.add(j)\n",
        "\n",
        "\n",
        "print(unique_values)"
      ],
      "metadata": {
        "colab": {
          "base_uri": "https://localhost:8080/"
        },
        "id": "nK1F0XMH9dbf",
        "outputId": "1c7a8b19-3068-4c11-dffc-c4982578720c"
      },
      "execution_count": null,
      "outputs": [
        {
          "output_type": "stream",
          "name": "stdout",
          "text": [
            "{'S005', 'S001', 'S002', 'S007', 'S009'}\n"
          ]
        }
      ]
    },
    {
      "cell_type": "code",
      "source": [
        "# Write a Python program to create a dictionary from a string.\n",
        "# Note: Track the count of the letters from the string.\n",
        "# Sample string : 'w3resource'\n",
        "# Expected output: {'3': 1, 's': 1, 'r': 2, 'u': 1, 'w': 1, 'c': 1, 'e': 2, 'o': 1}\n",
        "\n",
        "mystr = list(input(\"Enter the string: \"))\n",
        "mydict= dict()\n",
        "for i in mystr:\n",
        "  x = mystr.count(i)\n",
        "  mydict[i] = x\n",
        "print(mydict)\n"
      ],
      "metadata": {
        "colab": {
          "base_uri": "https://localhost:8080/"
        },
        "id": "0471kHUU-tst",
        "outputId": "a03cf300-d2f3-48b9-9c53-02a9383c75c4"
      },
      "execution_count": null,
      "outputs": [
        {
          "output_type": "stream",
          "name": "stdout",
          "text": [
            "Enter the string: w3resource\n",
            "{'w': 1, '3': 1, 'r': 2, 'e': 2, 's': 1, 'o': 1, 'u': 1, 'c': 1}\n"
          ]
        }
      ]
    },
    {
      "cell_type": "code",
      "source": [
        "# Write a Python program to print a dictionary in table format.\n",
        "\n",
        "mydict = {'C1':[1,2,3],'C2':[4,5,6],'C3':[7,8,9]}\n",
        "\n",
        "for key, value in mydict.items():\n",
        "  print(key, end = \" \")\n",
        "  for i in value:\n",
        "    print(i, end = \" \")\n",
        "  print()\n"
      ],
      "metadata": {
        "colab": {
          "base_uri": "https://localhost:8080/"
        },
        "id": "FLX8ECpTBCLx",
        "outputId": "b3abc9c6-c5fa-4a67-ec70-776ab3e9243d"
      },
      "execution_count": null,
      "outputs": [
        {
          "output_type": "stream",
          "name": "stdout",
          "text": [
            "C1 1 2 3 \n",
            "C2 4 5 6 \n",
            "C3 7 8 9 \n"
          ]
        }
      ]
    },
    {
      "cell_type": "code",
      "source": [
        "# Write a Python program to count the values associated with key in a dictionary.\n",
        "# Sample data: = [{'id': 1, 'success': True, 'name': 'Lary'}, {'id': 2, 'success':\n",
        "# False, 'name': 'Rabi'}, {'id': 3, 'success': True, 'name': 'Alex'}]\n",
        "# Expected result: Count of how many dictionaries have success as True\n",
        "\n",
        "mylist_dict = [{'id': 1, 'success': True, 'name': 'Lary'}, {'id': 2, 'success':\n",
        "False, 'name': 'Rabi'}, {'id': 3, 'success': True, 'name': 'Alex'}]\n",
        "\n",
        "count = 0\n",
        "for i in mylist_dict:\n",
        "  if i['success'] == True:\n",
        "    count += 1\n",
        "print(count)\n",
        "\n"
      ],
      "metadata": {
        "colab": {
          "base_uri": "https://localhost:8080/"
        },
        "id": "VYgVuQVxB66L",
        "outputId": "edf10f81-3441-45be-c056-50d6c160bf25"
      },
      "execution_count": null,
      "outputs": [
        {
          "output_type": "stream",
          "name": "stdout",
          "text": [
            "2\n"
          ]
        }
      ]
    },
    {
      "cell_type": "code",
      "source": [
        "# Write a Python program to convert a list into a nested dictionary of keys.\n",
        "\n",
        "nested_dict = {}\n",
        "mylist = [1,2,3,4]\n",
        "\n",
        "for i in mylist:\n",
        "  nested_dict[i] = {}\n",
        "  i = nested_dict[i]\n",
        "print(nested_dict)"
      ],
      "metadata": {
        "colab": {
          "base_uri": "https://localhost:8080/"
        },
        "id": "QB_qJ63nRUVf",
        "outputId": "0b875f74-527b-4b6c-ef7c-7fd519f86c9e"
      },
      "execution_count": null,
      "outputs": [
        {
          "output_type": "stream",
          "name": "stdout",
          "text": [
            "{1: {}, 2: {}, 3: {}, 4: {}}\n"
          ]
        }
      ]
    },
    {
      "cell_type": "code",
      "source": [
        "# Write a Python program to count number of items in a dictionary value that is a list.\n",
        "\n",
        "mydict = {'C1':[1,2,3],'C2':[4,5,6],'C3':[7,8,9]}\n",
        "count = 0\n",
        "for i in mydict.values():\n",
        "  if type(i) == list:\n",
        "    count+=1\n",
        "print(count)"
      ],
      "metadata": {
        "colab": {
          "base_uri": "https://localhost:8080/"
        },
        "id": "zWw3ZbbcRzZA",
        "outputId": "4c1f3137-9353-4736-a575-975c6fa2b288"
      },
      "execution_count": null,
      "outputs": [
        {
          "output_type": "stream",
          "name": "stdout",
          "text": [
            "3\n"
          ]
        }
      ]
    },
    {
      "cell_type": "markdown",
      "source": [
        "### **Set() Question set**"
      ],
      "metadata": {
        "id": "K-bHe7SPTZQD"
      }
    },
    {
      "cell_type": "code",
      "source": [
        "# Write a Python program to create a set.\n",
        "\n",
        "my_set = {1, 2, 3, 4, 5}\n",
        "print(\"Set created:\", my_set)\n"
      ],
      "metadata": {
        "colab": {
          "base_uri": "https://localhost:8080/"
        },
        "id": "8lgSHmq1TOK8",
        "outputId": "5b8511ad-6746-440d-ceef-13e7d76a4767"
      },
      "execution_count": null,
      "outputs": [
        {
          "output_type": "stream",
          "name": "stdout",
          "text": [
            "Set created: {1, 2, 3, 4, 5}\n"
          ]
        }
      ]
    },
    {
      "cell_type": "code",
      "source": [
        "# Iterating over a set\n",
        "my_set = {1, 2, 3, 4, 5}\n",
        "print(\"Iterating over the set:\")\n",
        "for item in my_set:\n",
        "    print(item)\n"
      ],
      "metadata": {
        "colab": {
          "base_uri": "https://localhost:8080/"
        },
        "id": "j3Vb1IOnUrtA",
        "outputId": "19f7f35d-a44a-4100-efc3-7e9bbb5cbe65"
      },
      "execution_count": null,
      "outputs": [
        {
          "output_type": "stream",
          "name": "stdout",
          "text": [
            "Iterating over the set:\n",
            "1\n",
            "2\n",
            "3\n",
            "4\n",
            "5\n"
          ]
        }
      ]
    },
    {
      "cell_type": "code",
      "source": [
        "# Adding elements to the set\n",
        "my_set = {1, 2, 3}\n",
        "print(\"Original set:\", my_set)\n",
        "\n",
        "# Adding a single element\n",
        "my_set.add(4)\n",
        "print(\"After adding 4:\", my_set)\n",
        "\n",
        "# Adding multiple elements\n",
        "my_set.update([5, 6, 7])\n",
        "print(\"After adding 5, 6, 7:\", my_set)\n"
      ],
      "metadata": {
        "colab": {
          "base_uri": "https://localhost:8080/"
        },
        "id": "2liTzejaUuK_",
        "outputId": "ad577de1-3442-4837-aae7-25d44b991646"
      },
      "execution_count": null,
      "outputs": [
        {
          "output_type": "stream",
          "name": "stdout",
          "text": [
            "Original set: {1, 2, 3}\n",
            "After adding 4: {1, 2, 3, 4}\n",
            "After adding 5, 6, 7: {1, 2, 3, 4, 5, 6, 7}\n"
          ]
        }
      ]
    },
    {
      "cell_type": "code",
      "source": [
        "# Removing an element from the set\n",
        "my_set = {1, 2, 3, 4, 5}\n",
        "print(\"Original set:\", my_set)\n",
        "\n",
        "# Removing a single element\n",
        "my_set.remove(3)\n",
        "print(\"After removing 3:\", my_set)\n",
        "\n",
        "# Removing an element using discard (no error if item is not found)\n",
        "my_set.discard(4)\n",
        "print(\"After discarding 4:\", my_set)\n"
      ],
      "metadata": {
        "colab": {
          "base_uri": "https://localhost:8080/"
        },
        "id": "fLDKws_tUyLN",
        "outputId": "175a69d7-73b0-406d-e401-e2006b402f11"
      },
      "execution_count": null,
      "outputs": [
        {
          "output_type": "stream",
          "name": "stdout",
          "text": [
            "Original set: {1, 2, 3, 4, 5}\n",
            "After removing 3: {1, 2, 4, 5}\n",
            "After discarding 4: {1, 2, 5}\n"
          ]
        }
      ]
    },
    {
      "cell_type": "code",
      "source": [
        "# Remove an item only if it is present in the set\n",
        "my_set = {1, 2, 3, 4, 5}\n",
        "print(\"Original set:\", my_set)\n",
        "\n",
        "# Check if 2 is present and remove it\n",
        "if 2 in my_set:\n",
        "    my_set.remove(2)\n",
        "    print(\"After removing 2:\", my_set)\n",
        "else:\n",
        "    print(\"Item 2 not found in the set.\")\n"
      ],
      "metadata": {
        "colab": {
          "base_uri": "https://localhost:8080/"
        },
        "id": "8pWIT1SeU0yp",
        "outputId": "50e17aeb-7c01-46a7-b930-ccc0f7be9b25"
      },
      "execution_count": null,
      "outputs": [
        {
          "output_type": "stream",
          "name": "stdout",
          "text": [
            "Original set: {1, 2, 3, 4, 5}\n",
            "After removing 2: {1, 3, 4, 5}\n"
          ]
        }
      ]
    },
    {
      "cell_type": "code",
      "source": [
        "# Intersection of sets\n",
        "set1 = {1, 2, 3, 4, 5}\n",
        "set2 = {4, 5, 6, 7, 8}\n",
        "intersection = set1.intersection(set2)\n",
        "print(\"Intersection of sets:\", intersection)\n"
      ],
      "metadata": {
        "colab": {
          "base_uri": "https://localhost:8080/"
        },
        "id": "Jcveh_ugU2Wc",
        "outputId": "1cad3b2f-7631-4183-ce1a-54b52cfbe445"
      },
      "execution_count": null,
      "outputs": [
        {
          "output_type": "stream",
          "name": "stdout",
          "text": [
            "Intersection of sets: {4, 5}\n"
          ]
        }
      ]
    },
    {
      "cell_type": "code",
      "source": [
        "# Union of sets\n",
        "set1 = {1, 2, 3, 4, 5}\n",
        "set2 = {4, 5, 6, 7, 8}\n",
        "union = set1.union(set2)\n",
        "print(\"Union of sets:\", union)\n"
      ],
      "metadata": {
        "colab": {
          "base_uri": "https://localhost:8080/"
        },
        "id": "U04tfwZjU_6j",
        "outputId": "c766bb01-ac2c-4b31-8755-bc50e9169ce3"
      },
      "execution_count": null,
      "outputs": [
        {
          "output_type": "stream",
          "name": "stdout",
          "text": [
            "Union of sets: {1, 2, 3, 4, 5, 6, 7, 8}\n"
          ]
        }
      ]
    },
    {
      "cell_type": "code",
      "source": [
        "# Difference of sets\n",
        "set1 = {1, 2, 3, 4, 5}\n",
        "set2 = {4, 5, 6, 7, 8}\n",
        "difference = set1.difference(set2)\n",
        "print(\"Difference of sets (set1 - set2):\", difference)\n"
      ],
      "metadata": {
        "colab": {
          "base_uri": "https://localhost:8080/"
        },
        "id": "Y7oURWIjVByo",
        "outputId": "848651d6-34d3-4d62-a7ef-cf97a0bb56d1"
      },
      "execution_count": null,
      "outputs": [
        {
          "output_type": "stream",
          "name": "stdout",
          "text": [
            "Difference of sets (set1 - set2): {1, 2, 3}\n"
          ]
        }
      ]
    },
    {
      "cell_type": "code",
      "source": [
        "# Symmetric Difference of sets\n",
        "set1 = {1, 2, 3, 4, 5}\n",
        "set2 = {4, 5, 6, 7, 8}\n",
        "symmetric_difference = set1.symmetric_difference(set2)\n",
        "print(\"Symmetric Difference of sets:\", symmetric_difference)\n"
      ],
      "metadata": {
        "colab": {
          "base_uri": "https://localhost:8080/"
        },
        "id": "fY16B3sdVDiD",
        "outputId": "0c08a48c-a127-4952-9f12-0f32e1370125"
      },
      "execution_count": null,
      "outputs": [
        {
          "output_type": "stream",
          "name": "stdout",
          "text": [
            "Symmetric Difference of sets: {1, 2, 3, 6, 7, 8}\n"
          ]
        }
      ]
    },
    {
      "cell_type": "code",
      "source": [
        "# Clear all elements in the set\n",
        "my_set = {1, 2, 3, 4, 5}\n",
        "print(\"Original set:\", my_set)\n",
        "\n",
        "my_set.clear()\n",
        "print(\"Set after clearing:\", my_set)\n"
      ],
      "metadata": {
        "colab": {
          "base_uri": "https://localhost:8080/"
        },
        "id": "P0y_8wbyVFiC",
        "outputId": "62e96af8-eab5-4550-96ce-626f8a2f4d79"
      },
      "execution_count": null,
      "outputs": [
        {
          "output_type": "stream",
          "name": "stdout",
          "text": [
            "Original set: {1, 2, 3, 4, 5}\n",
            "Set after clearing: set()\n"
          ]
        }
      ]
    },
    {
      "cell_type": "code",
      "source": [
        "# Frozenset - immutable set\n",
        "frozenset1 = frozenset([1, 2, 3, 4])\n",
        "frozenset2 = frozenset([3, 4, 5, 6])\n",
        "\n",
        "print(\"Frozenset1:\", frozenset1)\n",
        "print(\"Frozenset2:\", frozenset2)\n",
        "\n",
        "# Example of intersection with frozensets\n",
        "intersection = frozenset1.intersection(frozenset2)\n",
        "print(\"Intersection of frozensets:\", intersection)\n"
      ],
      "metadata": {
        "colab": {
          "base_uri": "https://localhost:8080/"
        },
        "id": "J8ZPL89UVHSF",
        "outputId": "4297e529-2b4c-4782-84a8-c33977611bc5"
      },
      "execution_count": null,
      "outputs": [
        {
          "output_type": "stream",
          "name": "stdout",
          "text": [
            "Frozenset1: frozenset({1, 2, 3, 4})\n",
            "Frozenset2: frozenset({3, 4, 5, 6})\n",
            "Intersection of frozensets: frozenset({3, 4})\n"
          ]
        }
      ]
    },
    {
      "cell_type": "code",
      "source": [
        "# Finding maximum and minimum value in a set\n",
        "my_set = {1, 2, 3, 4, 5, 6}\n",
        "print(\"Set:\", my_set)\n",
        "\n",
        "max_value = max(my_set)\n",
        "min_value = min(my_set)\n",
        "\n",
        "print(\"Maximum value in the set:\", max_value)\n",
        "print(\"Minimum value in the set:\", min_value)\n"
      ],
      "metadata": {
        "colab": {
          "base_uri": "https://localhost:8080/"
        },
        "id": "U5iXj9e1VI9e",
        "outputId": "764bf069-3e1c-46e9-92c1-e0718f75266f"
      },
      "execution_count": null,
      "outputs": [
        {
          "output_type": "stream",
          "name": "stdout",
          "text": [
            "Set: {1, 2, 3, 4, 5, 6}\n",
            "Maximum value in the set: 6\n",
            "Minimum value in the set: 1\n"
          ]
        }
      ]
    },
    {
      "cell_type": "markdown",
      "source": [
        "### **List Question Set**"
      ],
      "metadata": {
        "id": "ki4cp-FJVxZX"
      }
    },
    {
      "cell_type": "code",
      "source": [
        "# Summing all the items in a list\n",
        "my_list = [1, 2, 3, 4, 5]\n",
        "total = sum(my_list)\n",
        "print(\"Sum of all items in the list:\", total)\n"
      ],
      "metadata": {
        "colab": {
          "base_uri": "https://localhost:8080/"
        },
        "id": "L8qMiJCMVKU-",
        "outputId": "081f453e-c918-447f-a657-91df632141db"
      },
      "execution_count": null,
      "outputs": [
        {
          "output_type": "stream",
          "name": "stdout",
          "text": [
            "Sum of all items in the list: 15\n"
          ]
        }
      ]
    },
    {
      "cell_type": "code",
      "source": [
        "# Multiplying all the items in a list\n",
        "my_list = [1, 2, 3, 4, 5]\n",
        "product = 1\n",
        "for item in my_list:\n",
        "    product *= item\n",
        "print(\"Product of all items in the list:\", product)\n"
      ],
      "metadata": {
        "colab": {
          "base_uri": "https://localhost:8080/"
        },
        "id": "OgmCzI0uV9ir",
        "outputId": "d5c1eabe-2c9c-415e-f692-68e79d8e8b4d"
      },
      "execution_count": null,
      "outputs": [
        {
          "output_type": "stream",
          "name": "stdout",
          "text": [
            "Product of all items in the list: 120\n"
          ]
        }
      ]
    },
    {
      "cell_type": "code",
      "source": [
        "# Finding the smallest number in the list\n",
        "my_list = [5, 3, 9, 1, 7]\n",
        "smallest = min(my_list)\n",
        "print(\"Smallest number in the list:\", smallest)\n"
      ],
      "metadata": {
        "colab": {
          "base_uri": "https://localhost:8080/"
        },
        "id": "4fcI3jx1V_Uw",
        "outputId": "057c2ea5-b706-47c8-f24d-a7e280f5e1b1"
      },
      "execution_count": null,
      "outputs": [
        {
          "output_type": "stream",
          "name": "stdout",
          "text": [
            "Smallest number in the list: 1\n"
          ]
        }
      ]
    },
    {
      "cell_type": "code",
      "source": [
        "# Counting the number of strings with length 2 or more and first and last character the same\n",
        "sample_list = ['abc', 'xyz', 'aba', '1221']\n",
        "count = 0\n",
        "for string in sample_list:\n",
        "    if len(string) >= 2 and string[0] == string[-1]:\n",
        "        count += 1\n",
        "print(\"Number of strings where the length is 2 or more and the first and last character are the same:\", count)\n"
      ],
      "metadata": {
        "colab": {
          "base_uri": "https://localhost:8080/"
        },
        "id": "yFsd2sJ2WC9Z",
        "outputId": "543eb2ef-fd37-48dd-a153-ddafa73bfdf5"
      },
      "execution_count": null,
      "outputs": [
        {
          "output_type": "stream",
          "name": "stdout",
          "text": [
            "Number of strings where the length is 2 or more and the first and last character are the same: 2\n"
          ]
        }
      ]
    },
    {
      "cell_type": "code",
      "source": [
        "mylist = [(2, 5), (1, 2), (4, 4), (2, 3), (2, 1)]\n",
        "\n",
        "lst = []\n",
        "for tuples in mylist:\n",
        "  lst.append(sorted(tuples))\n",
        "print(lst)"
      ],
      "metadata": {
        "colab": {
          "base_uri": "https://localhost:8080/"
        },
        "id": "ufo0IID9WE6j",
        "outputId": "7f261bea-3ff4-4169-adf8-be89418fbb59"
      },
      "execution_count": null,
      "outputs": [
        {
          "output_type": "stream",
          "name": "stdout",
          "text": [
            "[[2, 5], [1, 2], [4, 4], [2, 3], [1, 2]]\n"
          ]
        }
      ]
    },
    {
      "cell_type": "code",
      "source": [
        "# Sorting a list of tuples by the last element in each tuple\n",
        "sample_list = [(2, 5), (1, 2), (4, 4), (2, 3), (2, 1)]\n",
        "\n",
        "sorted_list = sorted(sample_list, key=lambda x: x[-1])\n",
        "\n",
        "print(\"Sorted list by the last element of each tuple:\", sorted_list)\n"
      ],
      "metadata": {
        "colab": {
          "base_uri": "https://localhost:8080/"
        },
        "id": "H6X_li6uWpBh",
        "outputId": "c12b2b9a-21f6-4468-8b7a-93b20dd79409"
      },
      "execution_count": null,
      "outputs": [
        {
          "output_type": "stream",
          "name": "stdout",
          "text": [
            "Sorted list by the last element of each tuple: [(2, 1), (1, 2), (2, 3), (4, 4), (2, 5)]\n"
          ]
        }
      ]
    },
    {
      "cell_type": "code",
      "source": [
        "from ast import Index\n",
        "# Write a Python program to remove duplicates from a list.\n",
        "\n",
        "my_list = [1, 2, 3, 4, 5, 2, 3, 4, 2, 2]\n",
        "\n",
        "for i in my_list:\n",
        "  while my_list.count(i) != 1:\n",
        "    print(\"Removing \",i)\n",
        "    my_list.remove(i)\n",
        "my_list\n"
      ],
      "metadata": {
        "colab": {
          "base_uri": "https://localhost:8080/"
        },
        "id": "U7cPjHsrYwPd",
        "outputId": "6737a71f-b3df-464e-a8e6-ff7aa5f39b33"
      },
      "execution_count": null,
      "outputs": [
        {
          "output_type": "stream",
          "name": "stdout",
          "text": [
            "Removing  2\n",
            "Removing  2\n",
            "Removing  2\n",
            "Removing  4\n",
            "Removing  3\n"
          ]
        },
        {
          "output_type": "execute_result",
          "data": {
            "text/plain": [
              "[1, 5, 3, 4, 2]"
            ]
          },
          "metadata": {},
          "execution_count": 97
        }
      ]
    },
    {
      "cell_type": "code",
      "source": [
        "# Write a Python program to clone or copy a list.\n",
        "original_list = [1, 2, 3, 4, 5]\n",
        "\n",
        "cloned_list = original_list.copy()\n",
        "\n",
        "print(\"Original List:\", original_list)\n",
        "print(\"Cloned List:\", cloned_list)\n"
      ],
      "metadata": {
        "id": "cWkEHauFhIiZ"
      },
      "execution_count": null,
      "outputs": []
    },
    {
      "cell_type": "code",
      "source": [
        "# Write a Python program to find the list of words that are longer than n from a given list of words.\n",
        "\n",
        "def words_longer_than_n(word_list, n):\n",
        "    result = [word for word in word_list if len(word) > n]\n",
        "    return result\n",
        "\n",
        "word_list = ['apple', 'banana', 'cherry', 'kiwi', 'pear', 'orange']\n",
        "\n",
        "n = 5\n",
        "\n",
        "long_words = words_longer_than_n(word_list, n)\n",
        "\n",
        "print(\"Words longer than\", n, \"characters:\", long_words)\n",
        "\n"
      ],
      "metadata": {
        "colab": {
          "base_uri": "https://localhost:8080/"
        },
        "id": "r3--mboKZhrm",
        "outputId": "2e47fc76-2178-4cd9-a783-9563f2c97e21"
      },
      "execution_count": null,
      "outputs": [
        {
          "output_type": "stream",
          "name": "stdout",
          "text": [
            "Words longer than 5 characters: ['banana', 'cherry', 'orange']\n"
          ]
        }
      ]
    },
    {
      "cell_type": "code",
      "source": [
        "# Function to check if two lists have at least one common member\n",
        "def have_common_member(list1, list2):\n",
        "    return bool(set(list1) & set(list2))\n",
        "\n",
        "list1 = ['Red', 'Green', 'Blue']\n",
        "list2 = ['Yellow', 'Green', 'Pink']\n",
        "\n",
        "result = have_common_member(list1, list2)\n",
        "print(\"Do the lists have a common member?\", result)\n"
      ],
      "metadata": {
        "colab": {
          "base_uri": "https://localhost:8080/"
        },
        "id": "O4BT1BvihAqE",
        "outputId": "93b9d663-ef37-46b7-a64a-150c6cb1e73e"
      },
      "execution_count": null,
      "outputs": [
        {
          "output_type": "stream",
          "name": "stdout",
          "text": [
            "Do the lists have a common member? True\n"
          ]
        }
      ]
    },
    {
      "cell_type": "code",
      "source": [
        "# Write a Python program to generate all permutations of a list in Python.\n",
        "\n",
        "def generate_permutations(input_list):\n",
        "    if len(input_list) == 1:\n",
        "        return [input_list]\n",
        "\n",
        "    permutations = []\n",
        "    for i in range(len(input_list)):\n",
        "        current_element = input_list[i]\n",
        "        remaining_elements = input_list[:i] + input_list[i+1:]\n",
        "\n",
        "        for perm in generate_permutations(remaining_elements):\n",
        "            permutations.append([current_element] + perm)\n",
        "\n",
        "    return permutations\n",
        "\n",
        "input_list = [1, 2, 3]\n",
        "\n",
        "permutations = generate_permutations(input_list)\n",
        "\n",
        "print(\"All permutations of the list:\", permutations)\n"
      ],
      "metadata": {
        "colab": {
          "base_uri": "https://localhost:8080/"
        },
        "id": "oEneRfGChtyT",
        "outputId": "920176f6-3225-418a-927a-49f69f1c3d06"
      },
      "execution_count": null,
      "outputs": [
        {
          "output_type": "stream",
          "name": "stdout",
          "text": [
            "All permutations of the list: [[1, 2, 3], [1, 3, 2], [2, 1, 3], [2, 3, 1], [3, 1, 2], [3, 2, 1]]\n"
          ]
        }
      ]
    },
    {
      "cell_type": "code",
      "source": [
        "# Write a Python program to get the difference between the two lists.\n",
        "\n",
        "def list_difference(list1, list2, items = []):\n",
        "    for item in list1:\n",
        "      if item not in list2:\n",
        "        items.append(item)\n",
        "\n",
        "    for item in list2:\n",
        "      if item not in list1:\n",
        "        items.append(item)\n",
        "    return items\n",
        "\n",
        "list1 = [1, 2, 3, 4, 5]\n",
        "list2 = [4, 5, 6, 7]\n",
        "\n",
        "difference = list_difference(list1, list2)\n",
        "\n",
        "print(\"Difference between the two lists:\", difference)\n"
      ],
      "metadata": {
        "colab": {
          "base_uri": "https://localhost:8080/"
        },
        "id": "CLzm3XLxjit4",
        "outputId": "56768f84-3488-4ca6-d978-d6e2483f9ee3"
      },
      "execution_count": null,
      "outputs": [
        {
          "output_type": "stream",
          "name": "stdout",
          "text": [
            "Difference between the two lists: [1, 2, 3, 6, 7]\n"
          ]
        }
      ]
    },
    {
      "cell_type": "code",
      "source": [
        "# Function to append a list to another list\n",
        "def append_list(list1, list2):\n",
        "    list1.extend(list2)\n",
        "\n",
        "list1 = [1, 2, 3]\n",
        "list2 = [4, 5, 6]\n",
        "\n",
        "append_list(list1, list2)\n",
        "\n",
        "print(\"Modified list1 after appending list2:\", list1)\n"
      ],
      "metadata": {
        "colab": {
          "base_uri": "https://localhost:8080/"
        },
        "id": "E7KRTMLSj8rV",
        "outputId": "ebc2ddfd-20fe-4f12-841b-be6f9c269551"
      },
      "execution_count": null,
      "outputs": [
        {
          "output_type": "stream",
          "name": "stdout",
          "text": [
            "Modified list1 after appending list2: [1, 2, 3, 4, 5, 6]\n"
          ]
        }
      ]
    },
    {
      "cell_type": "code",
      "source": [
        "# Write a python program to check whether two lists are circularly identical.\n",
        "\n",
        "def check_identical_list(list1, list2):\n",
        "    if len(list1) != len(list2):\n",
        "        return False\n",
        "\n",
        "    elif list1 == list2:\n",
        "      return True\n",
        "\n",
        "    elif sorted(list1) == sorted(list2):\n",
        "      if list1[-1] == list2[0] or list1[0] == list2[-1]:\n",
        "        return True\n",
        "      else:\n",
        "        return False\n",
        "\n",
        "    else:\n",
        "      return False\n",
        "\n",
        "list1 = [1, 2, 3, 4, 5]\n",
        "list2 = [5, 1, 2, 3, 4]\n",
        "\n",
        "check_identical_list(list1, list2)\n"
      ],
      "metadata": {
        "colab": {
          "base_uri": "https://localhost:8080/"
        },
        "id": "G3AGBNFak2Cw",
        "outputId": "2da03509-d532-412d-8d54-41c06b73f6e0"
      },
      "execution_count": null,
      "outputs": [
        {
          "output_type": "execute_result",
          "data": {
            "text/plain": [
              "True"
            ]
          },
          "metadata": {},
          "execution_count": 108
        }
      ]
    },
    {
      "cell_type": "code",
      "source": [
        "# Function to find common items from two lists\n",
        "def find_common_items(list1, list2):\n",
        "    common_items = set(list1) & set(list2)\n",
        "    return list(common_items)\n",
        "\n",
        "list1 = [1, 2, 3, 4, 5]\n",
        "list2 = [4, 5, 6, 7, 8]\n",
        "\n",
        "common_items = find_common_items(list1, list2)\n",
        "\n",
        "print(\"Common items:\", common_items)\n"
      ],
      "metadata": {
        "colab": {
          "base_uri": "https://localhost:8080/"
        },
        "id": "a-qbklhYmam0",
        "outputId": "53cb8b1e-3169-4dc7-ab59-8274ab43c7be"
      },
      "execution_count": null,
      "outputs": [
        {
          "output_type": "stream",
          "name": "stdout",
          "text": [
            "Common items: [4, 5]\n"
          ]
        }
      ]
    },
    {
      "cell_type": "code",
      "source": [
        "# Function to split a list based on the first character of words\n",
        "def split_list_based_on_first_char(word_list):\n",
        "    grouped_words = {}\n",
        "\n",
        "    for word in word_list:\n",
        "        first_char = word[0].upper()\n",
        "\n",
        "        if first_char not in grouped_words:\n",
        "            grouped_words[first_char] = []\n",
        "\n",
        "        grouped_words[first_char].append(word)\n",
        "\n",
        "    return list(grouped_words.values())\n",
        "\n",
        "\n",
        "word_list = [\"apple\", \"banana\", \"apricot\", \"cherry\", \"carrot\", \"blueberry\"]\n",
        "\n",
        "split_list = split_list_based_on_first_char(word_list)\n",
        "\n",
        "print(\"Split list based on first character of word:\", split_list)\n"
      ],
      "metadata": {
        "colab": {
          "base_uri": "https://localhost:8080/"
        },
        "id": "K8KtvOgRmunH",
        "outputId": "a2b5164c-667d-400d-eb5d-2c4ae09557cb"
      },
      "execution_count": null,
      "outputs": [
        {
          "output_type": "stream",
          "name": "stdout",
          "text": [
            "Split list based on first character of word: [['apple', 'apricot'], ['banana', 'blueberry'], ['cherry', 'carrot']]\n"
          ]
        }
      ]
    },
    {
      "cell_type": "code",
      "source": [
        "# Write a Python program to remove duplicates from a list of lists.\n",
        "# Sample list : [[10, 20], [40], [30, 56, 25], [10, 20], [33], [40]]\n",
        "# New List : [[10, 20], [30, 56, 25], [33], [40]]\n",
        "\n",
        "Sample_list  = [[10, 20], [40], [30, 56, 25], [10, 20], [33], [40]]\n",
        "unique = []\n",
        "for i in Sample_list:\n",
        "  if i not in unique:\n",
        "    unique.append(i)\n",
        "sorted(unique)"
      ],
      "metadata": {
        "colab": {
          "base_uri": "https://localhost:8080/"
        },
        "id": "pXEHhkK8nLnP",
        "outputId": "b0db9d6d-9387-4e93-ed2f-d7beb88ef586"
      },
      "execution_count": null,
      "outputs": [
        {
          "output_type": "execute_result",
          "data": {
            "text/plain": [
              "[[10, 20], [30, 56, 25], [33], [40]]"
            ]
          },
          "metadata": {},
          "execution_count": 115
        }
      ]
    },
    {
      "cell_type": "markdown",
      "source": [
        "### **Tuple Practice Set**"
      ],
      "metadata": {
        "id": "8E1Cxr3goeqH"
      }
    },
    {
      "cell_type": "code",
      "source": [
        "# Creating a simple tuple\n",
        "my_tuple = (10, 20, 30, 40, 50)\n",
        "\n",
        "# Printing the tuple\n",
        "print(\"Tuple:\", my_tuple)\n"
      ],
      "metadata": {
        "colab": {
          "base_uri": "https://localhost:8080/"
        },
        "id": "kz9uENTUn-YP",
        "outputId": "f08b0289-ac54-499b-dc46-634c3dc25887"
      },
      "execution_count": null,
      "outputs": [
        {
          "output_type": "stream",
          "name": "stdout",
          "text": [
            "Tuple: (10, 20, 30, 40, 50)\n"
          ]
        }
      ]
    },
    {
      "cell_type": "code",
      "source": [
        "# Creating a tuple with different data types\n",
        "my_tuple = (1, \"Hello\", 3.14, True, [1, 2, 3])\n",
        "\n",
        "# Printing the tuple\n",
        "print(\"Tuple with different data types:\", my_tuple)\n"
      ],
      "metadata": {
        "colab": {
          "base_uri": "https://localhost:8080/"
        },
        "id": "4BcArVwFoynL",
        "outputId": "d898fa96-9b54-41ad-b99e-f2c3016b08a0"
      },
      "execution_count": null,
      "outputs": [
        {
          "output_type": "stream",
          "name": "stdout",
          "text": [
            "Tuple with different data types: (1, 'Hello', 3.14, True, [1, 2, 3])\n"
          ]
        }
      ]
    },
    {
      "cell_type": "code",
      "source": [
        "# Creating a tuple\n",
        "my_tuple = (1, \"Apple\", 3.14)\n",
        "\n",
        "# Unpacking the tuple into separate variables\n",
        "a, b, c = my_tuple\n",
        "\n",
        "# Printing the unpacked variables\n",
        "print(\"Unpacked values:\")\n",
        "print(\"a:\", a)\n",
        "print(\"b:\", b)\n",
        "print(\"c:\", c)\n"
      ],
      "metadata": {
        "colab": {
          "base_uri": "https://localhost:8080/"
        },
        "id": "hawd5B5Bo0LX",
        "outputId": "de88c760-d1cc-4bb5-be0a-672d13301552"
      },
      "execution_count": null,
      "outputs": [
        {
          "output_type": "stream",
          "name": "stdout",
          "text": [
            "Unpacked values:\n",
            "a: 1\n",
            "b: Apple\n",
            "c: 3.14\n"
          ]
        }
      ]
    },
    {
      "cell_type": "code",
      "source": [
        "# Creating a tuple\n",
        "my_tuple = (10, 20, 30, 40, 50, 60)\n",
        "\n",
        "# Slicing the tuple to get a portion\n",
        "tuple_slice = my_tuple[2:5]\n",
        "\n",
        "# Printing the slice\n",
        "print(\"Sliced tuple:\", tuple_slice)\n"
      ],
      "metadata": {
        "colab": {
          "base_uri": "https://localhost:8080/"
        },
        "id": "zO_fYpbLo2O0",
        "outputId": "46ea4c1f-d741-4788-b439-53485965f15b"
      },
      "execution_count": null,
      "outputs": [
        {
          "output_type": "stream",
          "name": "stdout",
          "text": [
            "Sliced tuple: (30, 40, 50)\n"
          ]
        }
      ]
    },
    {
      "cell_type": "code",
      "source": [
        "#finding repeated items in a tuple\n",
        "\n",
        "my_tuple = (1, 2, 3, 2, 4, 1, 5, 3)\n",
        "repeated_items = []\n",
        "for i in my_tuple:\n",
        "  if my_tuple.count(i) > 1 and i not in repeated_items:\n",
        "    repeated_items.append(i)\n",
        "print(repeated_items)"
      ],
      "metadata": {
        "colab": {
          "base_uri": "https://localhost:8080/"
        },
        "id": "JLqFAKCdo4gu",
        "outputId": "a6a6bb65-eb1d-4cda-b4be-81195546eac5"
      },
      "execution_count": null,
      "outputs": [
        {
          "output_type": "stream",
          "name": "stdout",
          "text": [
            "[1, 2, 3]\n"
          ]
        }
      ]
    },
    {
      "cell_type": "code",
      "source": [
        "# finding element in a tuple\n",
        "my_tuple = (10, 20, 30, 40, 50)\n",
        "\n",
        "element = 30\n",
        "\n",
        "if element in my_tuple:\n",
        "    print(f\"{element} exists in the tuple.\")\n",
        "else:\n",
        "    print(f\"{element} does not exist in the tuple.\")\n",
        "\n"
      ],
      "metadata": {
        "colab": {
          "base_uri": "https://localhost:8080/"
        },
        "id": "m33fAwqDo9x_",
        "outputId": "fc136bbe-8b4e-43da-d2fd-a281be132599"
      },
      "execution_count": null,
      "outputs": [
        {
          "output_type": "stream",
          "name": "stdout",
          "text": [
            "30 exists in the tuple.\n"
          ]
        }
      ]
    },
    {
      "cell_type": "code",
      "source": [
        "# Converting list to tuple\n",
        "my_list = [10, 20, 30, 40, 50]\n",
        "\n",
        "my_tuple = tuple(my_list)\n",
        "\n",
        "print(\"Tuple:\", my_tuple)\n"
      ],
      "metadata": {
        "colab": {
          "base_uri": "https://localhost:8080/"
        },
        "id": "726uVl8Spn03",
        "outputId": "de19af54-e75f-4667-9f06-3988feca104b"
      },
      "execution_count": null,
      "outputs": [
        {
          "output_type": "stream",
          "name": "stdout",
          "text": [
            "Tuple: (10, 20, 30, 40, 50)\n"
          ]
        }
      ]
    },
    {
      "cell_type": "code",
      "source": [
        "# Removing an item from a tuple\n",
        "my_tuple = (10, 20, 30, 40, 50)\n",
        "\n",
        "my_list = list(my_tuple)\n",
        "\n",
        "my_list.remove(30)\n",
        "\n",
        "my_tuple = tuple(my_list)\n",
        "\n",
        "print(\"Tuple after removing an item:\", my_tuple)\n"
      ],
      "metadata": {
        "colab": {
          "base_uri": "https://localhost:8080/"
        },
        "id": "-YETXF7vpwx3",
        "outputId": "d44b301a-24b7-4144-a714-7d5763b4890b"
      },
      "execution_count": null,
      "outputs": [
        {
          "output_type": "stream",
          "name": "stdout",
          "text": [
            "Tuple after removing an item: (10, 20, 40, 50)\n"
          ]
        }
      ]
    },
    {
      "cell_type": "code",
      "source": [
        "# Slicing a tuple\n",
        "my_tuple = (10, 20, 30, 40, 50, 60)\n",
        "\n",
        "tuple_slice = my_tuple[2:5]\n",
        "\n",
        "print(\"Sliced tuple:\", tuple_slice)\n"
      ],
      "metadata": {
        "colab": {
          "base_uri": "https://localhost:8080/"
        },
        "id": "Pr08zeTDp4-O",
        "outputId": "0a7b5cb8-382d-449a-9291-6a3a3c029cfd"
      },
      "execution_count": null,
      "outputs": [
        {
          "output_type": "stream",
          "name": "stdout",
          "text": [
            "Sliced tuple: (30, 40, 50)\n"
          ]
        }
      ]
    },
    {
      "cell_type": "code",
      "source": [
        "# Reversing the tuple\n",
        "my_tuple = (10, 20, 30, 40, 50)\n",
        "\n",
        "reversed_tuple = my_tuple[::-1]\n",
        "\n",
        "print(\"Reversed tuple:\", reversed_tuple)\n"
      ],
      "metadata": {
        "colab": {
          "base_uri": "https://localhost:8080/"
        },
        "id": "5f6rPH7AqDca",
        "outputId": "72d855b6-f981-42b1-f22f-7100ad41c45e"
      },
      "execution_count": null,
      "outputs": [
        {
          "output_type": "stream",
          "name": "stdout",
          "text": [
            "Reversed tuple: (50, 40, 30, 20, 10)\n"
          ]
        }
      ]
    },
    {
      "cell_type": "code",
      "source": [],
      "metadata": {
        "id": "QL7XSPc4qLkd"
      },
      "execution_count": null,
      "outputs": []
    }
  ]
}